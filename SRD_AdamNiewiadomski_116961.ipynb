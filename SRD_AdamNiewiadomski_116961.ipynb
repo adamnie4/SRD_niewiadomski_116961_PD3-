{
 "cells": [
  {
   "cell_type": "markdown",
   "id": "af46274a",
   "metadata": {},
   "source": [
    "# Adam Niewiadomski \n",
    "# Tryb studiow: Dzienne\n",
    "# Grupa: Wtorki 15:20\n",
    "# Indeks: 116961"
   ]
  },
  {
   "cell_type": "code",
   "execution_count": 1,
   "id": "ed036f29",
   "metadata": {},
   "outputs": [],
   "source": [
    "from sklearn.datasets import load_digits\n",
    "import numpy as np\n",
    "import pandas as pd \n",
    "from sklearn.datasets import load_iris\n",
    "from sklearn.decomposition import TruncatedSVD, FastICA, FactorAnalysis\n",
    "from sklearn.preprocessing import StandardScaler\n",
    "import umap.umap_ as umap\n",
    "import matplotlib.pyplot as plt"
   ]
  },
  {
   "cell_type": "code",
   "execution_count": 2,
   "id": "928d0e78",
   "metadata": {},
   "outputs": [
    {
     "name": "stdout",
     "output_type": "stream",
     "text": [
      "(1797, 64)\n"
     ]
    }
   ],
   "source": [
    "digits = load_digits()\n",
    "print(digits.data.shape)"
   ]
  },
  {
   "cell_type": "markdown",
   "id": "09428da1",
   "metadata": {},
   "source": [
    "## A) Use 2 other dimensionality reduction techniques (other than PCA nad UMAP) on the digits dataset (2 pts)\n"
   ]
  },
  {
   "cell_type": "markdown",
   "id": "aa74a1be",
   "metadata": {},
   "source": [
    "### Metoda SVD - Singular Value Decompositionm"
   ]
  },
  {
   "cell_type": "code",
   "execution_count": 3,
   "id": "826e77c8",
   "metadata": {},
   "outputs": [
    {
     "name": "stdout",
     "output_type": "stream",
     "text": [
      "(1797, 2)\n"
     ]
    }
   ],
   "source": [
    "SVD=TruncatedSVD(2)\n",
    "przeksztalcone = SVD.fit_transform(digits.data)\n",
    "\n",
    "print(przeksztalcone.shape) #dziala, ma 2 wymiary "
   ]
  },
  {
   "cell_type": "markdown",
   "id": "82c331ff",
   "metadata": {},
   "source": [
    "### ICA: Independent Component Analysis"
   ]
  },
  {
   "cell_type": "code",
   "execution_count": 6,
   "id": "e8d606af",
   "metadata": {},
   "outputs": [
    {
     "name": "stdout",
     "output_type": "stream",
     "text": [
      "(1797, 2)\n",
      "(1797, 5)\n"
     ]
    },
    {
     "name": "stderr",
     "output_type": "stream",
     "text": [
      "C:\\Users\\komeciu\\anaconda3\\lib\\site-packages\\sklearn\\decomposition\\_fastica.py:494: FutureWarning: Starting in v1.3, whiten='unit-variance' will be used by default.\n",
      "  warnings.warn(\n",
      "C:\\Users\\komeciu\\anaconda3\\lib\\site-packages\\sklearn\\decomposition\\_fastica.py:494: FutureWarning: Starting in v1.3, whiten='unit-variance' will be used by default.\n",
      "  warnings.warn(\n"
     ]
    }
   ],
   "source": [
    "ICA = FastICA(2)\n",
    "przeksztalcone1 = ICA.fit_transform(digits.data)\n",
    "\n",
    "print(przeksztalcone1.shape) #tez zadzialalo, udalo sie zredukowac wymiar\n",
    "\n",
    "ICA1 = FastICA(5)\n",
    "przeksztalcone2 = ICA1.fit_transform(digits.data)\n",
    "print(przeksztalcone2.shape) #Jakbym chcial na inna ilosc wymiarow to tez daje rade \n",
    "\n"
   ]
  },
  {
   "cell_type": "markdown",
   "id": "89ded831",
   "metadata": {},
   "source": [
    "## B) Use 2 other dimensionality reduction techniques (other than PCA nad UMAP) on the other dataset than digits (2 pts)\n"
   ]
  },
  {
   "cell_type": "code",
   "execution_count": 8,
   "id": "812b23b0",
   "metadata": {},
   "outputs": [
    {
     "name": "stdout",
     "output_type": "stream",
     "text": [
      "(150, 4)\n"
     ]
    }
   ],
   "source": [
    "iris = load_iris()\n",
    "\n",
    "x = iris.data\n",
    "y = iris.target\n",
    "\n",
    "print(x.shape)"
   ]
  },
  {
   "cell_type": "markdown",
   "id": "cc171e3c",
   "metadata": {},
   "source": [
    "### Metoda SVD - Singular Value Decompositionm"
   ]
  },
  {
   "cell_type": "code",
   "execution_count": 9,
   "id": "0f30baf1",
   "metadata": {},
   "outputs": [
    {
     "name": "stdout",
     "output_type": "stream",
     "text": [
      "(150, 2)\n"
     ]
    }
   ],
   "source": [
    "SVD=TruncatedSVD(2)\n",
    "x_new =SVD.fit_transform(x)\n",
    "\n",
    "print(x_new.shape) #dziala ma 2 wymiary "
   ]
  },
  {
   "cell_type": "markdown",
   "id": "d3e7f0b7",
   "metadata": {},
   "source": [
    "### Metoda Factor Analysis "
   ]
  },
  {
   "cell_type": "code",
   "execution_count": 10,
   "id": "ad0bbcc5",
   "metadata": {},
   "outputs": [
    {
     "name": "stdout",
     "output_type": "stream",
     "text": [
      "(150, 2)\n",
      "(150, 3)\n"
     ]
    }
   ],
   "source": [
    "factor = FactorAnalysis(2)\n",
    "\n",
    "factor_fit= factor.fit_transform(x)\n",
    "\n",
    "print(factor_fit.shape) # dziala \n",
    "\n",
    "factor2 = FactorAnalysis(3)\n",
    "factor_fit2= factor2.fit_transform(x)\n",
    "print(factor_fit2.shape) # dziala \n"
   ]
  },
  {
   "cell_type": "markdown",
   "id": "993bee7a",
   "metadata": {},
   "source": [
    "## C) Use 1 other clustering technique on Iris dataset plot the results with UMAP as above (1 pt)"
   ]
  },
  {
   "cell_type": "markdown",
   "id": "74ab558c",
   "metadata": {},
   "source": [
    "### Wykorzystanie metody DBSCAN"
   ]
  },
  {
   "cell_type": "code",
   "execution_count": 12,
   "id": "405ff05e",
   "metadata": {},
   "outputs": [],
   "source": [
    "from sklearn.cluster import DBSCAN"
   ]
  },
  {
   "cell_type": "code",
   "execution_count": 13,
   "id": "7b7fa870",
   "metadata": {},
   "outputs": [
    {
     "data": {
      "text/html": [
       "<div>\n",
       "<style scoped>\n",
       "    .dataframe tbody tr th:only-of-type {\n",
       "        vertical-align: middle;\n",
       "    }\n",
       "\n",
       "    .dataframe tbody tr th {\n",
       "        vertical-align: top;\n",
       "    }\n",
       "\n",
       "    .dataframe thead th {\n",
       "        text-align: right;\n",
       "    }\n",
       "</style>\n",
       "<table border=\"1\" class=\"dataframe\">\n",
       "  <thead>\n",
       "    <tr style=\"text-align: right;\">\n",
       "      <th></th>\n",
       "      <th>0</th>\n",
       "      <th>1</th>\n",
       "      <th>2</th>\n",
       "      <th>3</th>\n",
       "    </tr>\n",
       "  </thead>\n",
       "  <tbody>\n",
       "    <tr>\n",
       "      <th>0</th>\n",
       "      <td>-0.900681</td>\n",
       "      <td>1.019004</td>\n",
       "      <td>-1.340227</td>\n",
       "      <td>-1.315444</td>\n",
       "    </tr>\n",
       "    <tr>\n",
       "      <th>1</th>\n",
       "      <td>-1.143017</td>\n",
       "      <td>-0.131979</td>\n",
       "      <td>-1.340227</td>\n",
       "      <td>-1.315444</td>\n",
       "    </tr>\n",
       "    <tr>\n",
       "      <th>2</th>\n",
       "      <td>-1.385353</td>\n",
       "      <td>0.328414</td>\n",
       "      <td>-1.397064</td>\n",
       "      <td>-1.315444</td>\n",
       "    </tr>\n",
       "    <tr>\n",
       "      <th>3</th>\n",
       "      <td>-1.506521</td>\n",
       "      <td>0.098217</td>\n",
       "      <td>-1.283389</td>\n",
       "      <td>-1.315444</td>\n",
       "    </tr>\n",
       "    <tr>\n",
       "      <th>4</th>\n",
       "      <td>-1.021849</td>\n",
       "      <td>1.249201</td>\n",
       "      <td>-1.340227</td>\n",
       "      <td>-1.315444</td>\n",
       "    </tr>\n",
       "    <tr>\n",
       "      <th>...</th>\n",
       "      <td>...</td>\n",
       "      <td>...</td>\n",
       "      <td>...</td>\n",
       "      <td>...</td>\n",
       "    </tr>\n",
       "    <tr>\n",
       "      <th>145</th>\n",
       "      <td>1.038005</td>\n",
       "      <td>-0.131979</td>\n",
       "      <td>0.819596</td>\n",
       "      <td>1.448832</td>\n",
       "    </tr>\n",
       "    <tr>\n",
       "      <th>146</th>\n",
       "      <td>0.553333</td>\n",
       "      <td>-1.282963</td>\n",
       "      <td>0.705921</td>\n",
       "      <td>0.922303</td>\n",
       "    </tr>\n",
       "    <tr>\n",
       "      <th>147</th>\n",
       "      <td>0.795669</td>\n",
       "      <td>-0.131979</td>\n",
       "      <td>0.819596</td>\n",
       "      <td>1.053935</td>\n",
       "    </tr>\n",
       "    <tr>\n",
       "      <th>148</th>\n",
       "      <td>0.432165</td>\n",
       "      <td>0.788808</td>\n",
       "      <td>0.933271</td>\n",
       "      <td>1.448832</td>\n",
       "    </tr>\n",
       "    <tr>\n",
       "      <th>149</th>\n",
       "      <td>0.068662</td>\n",
       "      <td>-0.131979</td>\n",
       "      <td>0.762758</td>\n",
       "      <td>0.790671</td>\n",
       "    </tr>\n",
       "  </tbody>\n",
       "</table>\n",
       "<p>150 rows × 4 columns</p>\n",
       "</div>"
      ],
      "text/plain": [
       "            0         1         2         3\n",
       "0   -0.900681  1.019004 -1.340227 -1.315444\n",
       "1   -1.143017 -0.131979 -1.340227 -1.315444\n",
       "2   -1.385353  0.328414 -1.397064 -1.315444\n",
       "3   -1.506521  0.098217 -1.283389 -1.315444\n",
       "4   -1.021849  1.249201 -1.340227 -1.315444\n",
       "..        ...       ...       ...       ...\n",
       "145  1.038005 -0.131979  0.819596  1.448832\n",
       "146  0.553333 -1.282963  0.705921  0.922303\n",
       "147  0.795669 -0.131979  0.819596  1.053935\n",
       "148  0.432165  0.788808  0.933271  1.448832\n",
       "149  0.068662 -0.131979  0.762758  0.790671\n",
       "\n",
       "[150 rows x 4 columns]"
      ]
     },
     "execution_count": 13,
     "metadata": {},
     "output_type": "execute_result"
    }
   ],
   "source": [
    "x = pd.DataFrame(x)\n",
    "xx = pd.DataFrame(StandardScaler().fit(x).transform(x))\n",
    "xx"
   ]
  },
  {
   "cell_type": "code",
   "execution_count": 14,
   "id": "60c79e06",
   "metadata": {},
   "outputs": [],
   "source": [
    "dbscan = DBSCAN(eps=1.4,min_samples=5) #zmienilem z bazowego 0.5 na 1.4 bo tworzylo sie za duzo grup ktore wygladaly słabo\n",
    "#w ten sposób otrzymałem dwie hermetyczne grupy, moglbym modyfikowac tez min_sample zeby osiagnac podobny wynik\n",
    "lab = dbscan.fit(xx).labels_\n",
    "\n",
    "model = umap.UMAP(random_state=42)\n",
    "umap_embedding = model.fit(xx).transform(xx)"
   ]
  },
  {
   "cell_type": "code",
   "execution_count": 15,
   "id": "e0b1bce5",
   "metadata": {},
   "outputs": [],
   "source": [
    "def plot_reduced_data(embedding, color_col):\n",
    "    plt.figure(dpi=150)\n",
    "    plt.scatter(embedding[:, 0], embedding[:, 1], c=color_col, cmap='rainbow', s=5)\n",
    "    plt.gca().set_aspect('equal', 'datalim')\n",
    "    n = len(np.unique(color_col))\n",
    "    plt.colorbar(boundaries=np.arange(n+1)-0.5).set_ticks(np.arange(n)) "
   ]
  },
  {
   "cell_type": "code",
   "execution_count": 16,
   "id": "bda16ddc",
   "metadata": {},
   "outputs": [
    {
     "data": {
      "image/png": "[encoded data removed]",
      "text/plain": [
       "<Figure size 900x600 with 2 Axes>"
      ]
     },
     "metadata": {
      "needs_background": "light"
     },
     "output_type": "display_data"
    }
   ],
   "source": [
    "plot_reduced_data(umap_embedding, lab)"
   ]
  }
 ],
 "metadata": {
  "kernelspec": {
   "display_name": "Python 3",
   "language": "python",
   "name": "python3"
  },
  "language_info": {
   "codemirror_mode": {
    "name": "ipython",
    "version": 3
   },
   "file_extension": ".py",
   "mimetype": "text/x-python",
   "name": "python",
   "nbconvert_exporter": "python",
   "pygments_lexer": "ipython3",
   "version": "3.8.8"
  }
 },
 "nbformat": 4,
 "nbformat_minor": 5
}
